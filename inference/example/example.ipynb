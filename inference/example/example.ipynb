{
  "nbformat": 4,
  "nbformat_minor": 0,
  "metadata": {
    "colab": {
      "provenance": [],
      "authorship_tag": "ABX9TyMm6Jtb/FirjPQByRiT6TFm",
      "include_colab_link": true
    },
    "kernelspec": {
      "name": "python3",
      "display_name": "Python 3"
    },
    "language_info": {
      "name": "python"
    },
    "accelerator": "GPU",
    "gpuClass": "standard"
  },
  "cells": [
    {
      "cell_type": "markdown",
      "metadata": {
        "id": "view-in-github",
        "colab_type": "text"
      },
      "source": [
        "<a href=\"https://colab.research.google.com/github/togethercomputer/OpenChatKit/blob/main/inference/example/example.ipynb\" target=\"_parent\"><img src=\"https://colab.research.google.com/assets/colab-badge.svg\" alt=\"Open In Colab\"/></a>"
      ]
    },
    {
      "cell_type": "markdown",
      "source": [
        "# OpenChatKit"
      ],
      "metadata": {
        "id": "sLrKqm0BULlD"
      }
    },
    {
      "cell_type": "markdown",
      "source": [
        "### Check GPU availability"
      ],
      "metadata": {
        "id": "eZsgPnayURrc"
      }
    },
    {
      "cell_type": "code",
      "source": [
        "!nvidia-smi"
      ],
      "metadata": {
        "id": "qy_ENUlFgG4a"
      },
      "execution_count": null,
      "outputs": []
    },
    {
      "cell_type": "markdown",
      "source": [
        "### Install conda"
      ],
      "metadata": {
        "id": "0gy7ssnoT_SI"
      }
    },
    {
      "cell_type": "code",
      "source": [
        "!wget https://repo.anaconda.com/miniconda/Miniconda3-latest-Linux-x86_64.sh && chmod +x Miniconda3-latest-Linux-x86_64.sh && ./Miniconda3-latest-Linux-x86_64.sh -b -f -p /usr/local"
      ],
      "metadata": {
        "id": "11MMVFkAKtyg"
      },
      "execution_count": null,
      "outputs": []
    },
    {
      "cell_type": "markdown",
      "source": [
        "### Setting up conda environment"
      ],
      "metadata": {
        "id": "CD7yF4rvT3Y8"
      }
    },
    {
      "cell_type": "code",
      "source": [
        "!conda install mamba -n base -c conda-forge -y"
      ],
      "metadata": {
        "id": "-W6PrOSILQoc"
      },
      "execution_count": null,
      "outputs": []
    },
    {
      "cell_type": "markdown",
      "source": [
        "Expect the next step to take a while"
      ],
      "metadata": {
        "id": "rWzDhB5rTrrT"
      }
    },
    {
      "cell_type": "code",
      "source": [
        "!git clone https://github.com/togethercomputer/OpenChatKit.git && cd OpenChatKit && mamba env create -f environment.yml"
      ],
      "metadata": {
        "id": "hC8ob6kuLSn2"
      },
      "execution_count": null,
      "outputs": []
    },
    {
      "cell_type": "code",
      "source": [
        "!source activate OpenChatKit && pip install bitsandbytes"
      ],
      "metadata": {
        "id": "T_K3hXCVz7I1"
      },
      "execution_count": null,
      "outputs": []
    },
    {
      "cell_type": "markdown",
      "source": [
        "### Loading and running the model"
      ],
      "metadata": {
        "id": "jOKRM0VVUjwk"
      }
    },
    {
      "cell_type": "markdown",
      "source": [
        "\n",
        "The model will be downloaded the first time. Remove `--load-in-8bit` to disable loading model in 8-bit.\n",
        "\n"
      ],
      "metadata": {
        "id": "psFgkD69Upu3"
      }
    },
    {
      "cell_type": "code",
      "source": [
        "!source activate OpenChatKit && python OpenChatKit/inference/bot.py --model togethercomputer/Pythia-Chat-Base-7B --load-in-8bit"
      ],
      "metadata": {
        "id": "9hvg2CLSZ2Kd"
      },
      "execution_count": null,
      "outputs": []
    }
  ]
}
